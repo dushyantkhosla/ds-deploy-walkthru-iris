{
 "cells": [
  {
   "cell_type": "code",
   "execution_count": 1,
   "metadata": {},
   "outputs": [],
   "source": [
    "import os\n",
    "os.chdir(\"..\")"
   ]
  },
  {
   "cell_type": "code",
   "execution_count": 2,
   "metadata": {},
   "outputs": [],
   "source": [
    "import json, requests"
   ]
  },
  {
   "cell_type": "code",
   "execution_count": 3,
   "metadata": {},
   "outputs": [],
   "source": [
    "import pandas as pd\n",
    "import numpy as np\n",
    "\n",
    "from src.scrub import get_clean_iris\n",
    "from src.deploy import generate_random_iris\n",
    "from src.deploy import get_prediction"
   ]
  },
  {
   "cell_type": "markdown",
   "metadata": {},
   "source": [
    "# Stream Prediction\n",
    "---\n",
    "\n",
    "- define the url where the api is served\n",
    "- set up sample payload\n",
    "- send a `post` request with the payload to the api\n",
    "- decode the returned json into a dict\n",
    "- change the payload and re-run a few times"
   ]
  },
  {
   "cell_type": "code",
   "execution_count": 4,
   "metadata": {},
   "outputs": [],
   "source": [
    "url = \"http://127.0.0.1:5001/api\""
   ]
  },
  {
   "cell_type": "code",
   "execution_count": 5,
   "metadata": {},
   "outputs": [],
   "source": [
    "payload = json.dumps({\n",
    "    'sl': 3,\n",
    "    'sw': 5,\n",
    "    'pl': 2.75,\n",
    "    'pw': 2.1,\n",
    "    'algo': 'dt'\n",
    "})"
   ]
  },
  {
   "cell_type": "code",
   "execution_count": 6,
   "metadata": {},
   "outputs": [],
   "source": [
    "r = requests.post(url, payload)"
   ]
  },
  {
   "cell_type": "code",
   "execution_count": 7,
   "metadata": {},
   "outputs": [
    {
     "data": {
      "text/plain": [
       "{u'iris_type': u'versicolor', u'model': u'dt'}"
      ]
     },
     "execution_count": 7,
     "metadata": {},
     "output_type": "execute_result"
    }
   ],
   "source": [
    "json.loads(r.text)"
   ]
  },
  {
   "cell_type": "markdown",
   "metadata": {},
   "source": [
    "# Batch Predictions\n",
    "---\n",
    "\n",
    "- we simulate some real-world data by adding noise to actual data\n",
    "- rename columns so they are consistent with what the api expects\n",
    "- define a function to retrieve a prediction\n",
    "- map the function over the rows"
   ]
  },
  {
   "cell_type": "code",
   "execution_count": 16,
   "metadata": {},
   "outputs": [],
   "source": [
    "df = generate_random_iris()"
   ]
  },
  {
   "cell_type": "code",
   "execution_count": 35,
   "metadata": {},
   "outputs": [
    {
     "name": "stdout",
     "output_type": "stream",
     "text": [
      "sl    7.45\n",
      "sw    4.81\n",
      "pl    5.11\n",
      "pw    1.17\n",
      "Name: 0.75, dtype: float64\n"
     ]
    },
    {
     "data": {
      "text/plain": [
       "{u'iris_type': u'virginica', u'model': u'dt'}"
      ]
     },
     "execution_count": 35,
     "metadata": {},
     "output_type": "execute_result"
    }
   ],
   "source": [
    "test_case = df.sample(1).iloc[0]\n",
    "print(test_case)\n",
    "\n",
    "get_prediction(test_case, 'dt', url=url)"
   ]
  },
  {
   "cell_type": "code",
   "execution_count": 36,
   "metadata": {},
   "outputs": [],
   "source": [
    "df['predicted_iris_type'] = \\\n",
    "(df\n",
    " .apply(lambda r: get_prediction(r, 'lr', url=url).get('iris_type'), \n",
    "        axis=1)\n",
    ")"
   ]
  },
  {
   "cell_type": "code",
   "execution_count": 39,
   "metadata": {},
   "outputs": [
    {
     "data": {
      "text/html": [
       "<div>\n",
       "<style scoped>\n",
       "    .dataframe tbody tr th:only-of-type {\n",
       "        vertical-align: middle;\n",
       "    }\n",
       "\n",
       "    .dataframe tbody tr th {\n",
       "        vertical-align: top;\n",
       "    }\n",
       "\n",
       "    .dataframe thead th {\n",
       "        text-align: right;\n",
       "    }\n",
       "</style>\n",
       "<table border=\"1\" class=\"dataframe\">\n",
       "  <thead>\n",
       "    <tr style=\"text-align: right;\">\n",
       "      <th></th>\n",
       "      <th>sl</th>\n",
       "      <th>sw</th>\n",
       "      <th>pl</th>\n",
       "      <th>pw</th>\n",
       "      <th>predicted_iris_type</th>\n",
       "    </tr>\n",
       "  </thead>\n",
       "  <tbody>\n",
       "    <tr>\n",
       "      <th>0.75</th>\n",
       "      <td>7.45</td>\n",
       "      <td>4.81</td>\n",
       "      <td>5.11</td>\n",
       "      <td>1.17</td>\n",
       "      <td>versicolor</td>\n",
       "    </tr>\n",
       "    <tr>\n",
       "      <th>0.75</th>\n",
       "      <td>5.88</td>\n",
       "      <td>1.78</td>\n",
       "      <td>4.02</td>\n",
       "      <td>0.94</td>\n",
       "      <td>versicolor</td>\n",
       "    </tr>\n",
       "    <tr>\n",
       "      <th>0.75</th>\n",
       "      <td>5.87</td>\n",
       "      <td>3.53</td>\n",
       "      <td>3.58</td>\n",
       "      <td>0.46</td>\n",
       "      <td>versicolor</td>\n",
       "    </tr>\n",
       "    <tr>\n",
       "      <th>0.75</th>\n",
       "      <td>6.67</td>\n",
       "      <td>2.83</td>\n",
       "      <td>4.59</td>\n",
       "      <td>1.74</td>\n",
       "      <td>versicolor</td>\n",
       "    </tr>\n",
       "    <tr>\n",
       "      <th>0.75</th>\n",
       "      <td>6.06</td>\n",
       "      <td>3.17</td>\n",
       "      <td>5.18</td>\n",
       "      <td>1.28</td>\n",
       "      <td>versicolor</td>\n",
       "    </tr>\n",
       "  </tbody>\n",
       "</table>\n",
       "</div>"
      ],
      "text/plain": [
       "        sl    sw    pl    pw predicted_iris_type\n",
       "0.75  7.45  4.81  5.11  1.17          versicolor\n",
       "0.75  5.88  1.78  4.02  0.94          versicolor\n",
       "0.75  5.87  3.53  3.58  0.46          versicolor\n",
       "0.75  6.67  2.83  4.59  1.74          versicolor\n",
       "0.75  6.06  3.17  5.18  1.28          versicolor"
      ]
     },
     "execution_count": 39,
     "metadata": {},
     "output_type": "execute_result"
    }
   ],
   "source": [
    "df.head()"
   ]
  }
 ],
 "metadata": {
  "kernelspec": {
   "display_name": "Python 2",
   "language": "python",
   "name": "python2"
  },
  "language_info": {
   "codemirror_mode": {
    "name": "ipython",
    "version": 2
   },
   "file_extension": ".py",
   "mimetype": "text/x-python",
   "name": "python",
   "nbconvert_exporter": "python",
   "pygments_lexer": "ipython2",
   "version": "2.7.14"
  }
 },
 "nbformat": 4,
 "nbformat_minor": 2
}
